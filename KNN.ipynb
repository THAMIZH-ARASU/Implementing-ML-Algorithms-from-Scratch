{
 "cells": [
  {
   "cell_type": "markdown",
   "metadata": {},
   "source": [
    "# **K-Nearest Neighbors (KNN) Overview**\n",
    "\n",
    "K-Nearest Neighbors (KNN) is a simple, non-parametric, instance-based machine learning algorithm used for both classification and regression tasks. It works by identifying the ‘k’ data points in the training set that are closest to a new input point based on a distance metric (such as Euclidean distance). The class label (for classification) or the average value (for regression) of these neighbors is then used to make the prediction. KNN does not involve any explicit model training; instead, it memorizes the training data and makes predictions at runtime."
   ]
  },
  {
   "cell_type": "markdown",
   "metadata": {},
   "source": [
    "## How KNN works:\n",
    "\n",
    "- Choose the number of neighbors k.\n",
    "- Calculate the distance between the new point and all points in the training dataset.\n",
    "- Select the k nearest neighbors based on the calculated distances.\n",
    "- For classification: return the most common class among the neighbors.\n",
    "- For regression: return the average of the neighbor values."
   ]
  },
  {
   "cell_type": "markdown",
   "metadata": {},
   "source": [
    "## Common Distance Metrics\n",
    "\n",
    "- **Euclidean:**\n",
    "\n",
    "  \\\\[\n",
    "  d(p, q) = \\sqrt{ \\sum_{i=1}^{n} (p_i - q_i)^2 }\n",
    "  \\\\]\n",
    "\n",
    "- **Manhattan:**\n",
    "\n",
    "  \\\\[\n",
    "  d(p, q) = \\sum_{i=1}^{n} |p_i - q_i|\n",
    "  \\\\]\n"
   ]
  }
 ],
 "metadata": {
  "language_info": {
   "name": "python"
  }
 },
 "nbformat": 4,
 "nbformat_minor": 2
}
