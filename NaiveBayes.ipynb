{
 "cells": [
  {
   "cell_type": "markdown",
   "metadata": {},
   "source": [
    "# **Naive Bayes Overview**\n",
    "\n",
    "Naive Bayes is a statistical and machine learning technique commonly used for classification problems, especially in cases involving text or categorical data. It is based on Bayes' Theorem and assumes that the features are conditionally independent given the class label—a simplification known as the \"naive\" assumption. Naive Bayes calculates the probability of a data point belonging to a particular class based on the prior probabilities and the likelihood of the observed features. Despite its simplicity, it often performs surprisingly well, especially in high-dimensional spaces.\n",
    "\n",
    "---"
   ]
  },
  {
   "cell_type": "markdown",
   "metadata": {},
   "source": [
    "## Bayes Theorem\n",
    "\n",
    "\\\\[\n",
    "P(A \\\\mid B) = \\\\frac{P(B \\\\mid A) \\\\cdot P(A)}{P(B)}\n",
    "\\\\]"
   ]
  },
  {
   "cell_type": "markdown",
   "metadata": {},
   "source": [
    "\n",
    "## In our case\n",
    "\n",
    "\\\\[\n",
    "P(A \\\\mid X) = \\\\frac{P(X \\\\mid y) \\\\cdot P(y)}{P(X)}\n",
    "\\\\]"
   ]
  }
 ],
 "metadata": {
  "language_info": {
   "name": "python"
  }
 },
 "nbformat": 4,
 "nbformat_minor": 2
}
