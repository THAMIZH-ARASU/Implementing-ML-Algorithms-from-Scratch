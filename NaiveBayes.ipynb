{
 "cells": [
  {
   "cell_type": "markdown",
   "metadata": {},
   "source": [
    "# **Naive Bayes Overview**\n",
    "\n",
    "Naive Bayes is a statistical and machine learning technique commonly used for classification problems, especially in cases involving text or categorical data. It is based on Bayes' Theorem and assumes that the features are conditionally independent given the class label—a simplification known as the \"naive\" assumption. Naive Bayes calculates the probability of a data point belonging to a particular class based on the prior probabilities and the likelihood of the observed features. Despite its simplicity, it often performs surprisingly well, especially in high-dimensional spaces.\n",
    "\n",
    "---"
   ]
  },
  {
   "cell_type": "markdown",
   "metadata": {},
   "source": [
    "## Bayes Theorem\n",
    "\n",
    "### \\\\[ P(A \\mid B) = \\frac{P(B \\mid A) \\cdot P(A)}{P(B)} \\\\]"
   ]
  },
  {
   "cell_type": "markdown",
   "metadata": {},
   "source": [
    "\n",
    "## In our case\n",
    "\n",
    "### \\\\[ P(y \\mid X) = \\frac{P(X \\mid y) \\cdot P(y)}{P(X)} \\\\]"
   ]
  },
  {
   "cell_type": "markdown",
   "metadata": {},
   "source": [
    "### with feature vector X\n",
    "\n",
    "### \\\\[ \\mathbf{X} = (x_1, x_2, x_3, \\ldots, x_n) \\\\]\n"
   ]
  },
  {
   "cell_type": "markdown",
   "metadata": {},
   "source": [
    "## Assume that all features are mutually independent\n",
    "\n",
    "### \\\\[ P(y \\mid \\mathbf{X}) = \\frac{P(x_1 \\mid y) \\cdot P(x_2 \\mid y) \\cdots P(x_n \\mid y) \\cdot P(y)}{P(\\mathbf{X})} \\\\]\n"
   ]
  },
  {
   "cell_type": "markdown",
   "metadata": {},
   "source": [
    "## Select the class with highest probability\n",
    "\n",
    "#### \\\\[ y = \\arg\\max\\limits_y P(y \\mid \\mathbf{X}) = \\arg\\max\\limits_y \\frac{P(x_1 \\mid y) \\cdot P(x_2 \\mid y) \\cdots P(x_n \\mid y) \\cdot P(y)}{P(\\mathbf{X})} \\\\]\n",
    "\n",
    "#### \\\\[ y = \\arg\\max\\limits_y P(x_1 \\mid y) \\cdot P(x_2 \\mid y) \\cdots P(x_n \\mid y) \\cdot P(y) \\\\]\n",
    "\n",
    "#### \\\\[ y = \\arg\\max\\limits_y \\log(P(x_1 \\mid y)) + \\log(P(x_2 \\mid y)) + \\cdots + \\log(P(x_n \\mid y)) + \\log(P(y)) \\\\]"
   ]
  }
 ],
 "metadata": {
  "language_info": {
   "name": "python"
  }
 },
 "nbformat": 4,
 "nbformat_minor": 2
}
